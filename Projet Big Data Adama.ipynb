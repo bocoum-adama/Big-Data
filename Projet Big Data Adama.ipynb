{
 "cells": [
  {
   "cell_type": "markdown",
   "metadata": {
    "application/vnd.databricks.v1+cell": {
     "inputWidgets": {},
     "nuid": "f3532250-894b-455b-b7a3-e783dc1f0c9d",
     "showTitle": false,
     "title": ""
    }
   },
   "source": [
    "**Nom Etudiant :**  ADAMA\n",
    "\n",
    "**Prenom Etudiant:**  BOCOUM\n",
    "\n",
    "**Classe :** ING3 INFO IPLSL\n",
    "\n",
    "**Date limite de dépot : 31/08/2022**\n",
    "\n",
    "\n",
    "# Travail à Faire:\n",
    "Télécharger le Datasets sur le lien Drive :  https://drive.google.com/file/d/1tuV0lyb2uWvOInodVTohpdCiAV5FrBX-/view?usp=sharing \n",
    "\n",
    "Repondre les questions ci-dessous avec le maximum de precisions et de détails.   \n",
    "Remplir `FILL_IN` avec les methodes qui correspondent à la réponse adéquate\n",
    "\n",
    "\n",
    "### Revenus des achats\n",
    "1. Extraire les revenus d'achat pour chaque événement\n",
    "2. Filtrer les événements dont le revenu n'est pas nul\n",
    "3. Vérifiez quels sont les types d'événements qui génèrent des revenus\n",
    "4. Supprimez la colonne inutile\n",
    "\n",
    "### Revenus par Traffic\n",
    "Obtenir les 3 sources de trafic générant le revenu total le plus élevé.\n",
    "5. Revenus cumulés par source de trafic\n",
    "7. Obtenir les 3 principales sources de trafic par revenu total\n",
    "6. Nettoyer les colonnes de revenus pour avoir deux décimales\n",
    "\n",
    "\n",
    "##### Methods\n",
    "- DataFrame: `select`, `drop`, `withColumn`, `filter`, `dropDuplicates`,  `groupBy`, `sort`, `limit`\n",
    "- Column: `isNotNull`, `alias`, `desc`, `cast`, `operators`"
   ]
  },
  {
   "cell_type": "code",
   "execution_count": 27,
   "metadata": {
    "application/vnd.databricks.v1+cell": {
     "inputWidgets": {},
     "nuid": "124f66d5-a758-40f9-9254-9802175a7eee",
     "showTitle": false,
     "title": ""
    }
   },
   "outputs": [
    {
     "data": {
      "text/plain": [
       "import org.apache.spark.sql.SparkSession\n",
       "spark: org.apache.spark.sql.SparkSession = org.apache.spark.sql.SparkSession@2d2c498a\n"
      ]
     },
     "execution_count": 27,
     "metadata": {},
     "output_type": "execute_result"
    }
   ],
   "source": [
    "%scala\n",
    "import org.apache.spark.sql.SparkSession\n",
    "val spark = SparkSession.builder.\n",
    "                        appName(\"Projet Adama Bocoum\").\n",
    "                        config(\"spark.ui.port\", \"0\").\n",
    "                        master(\"yarn\").\n",
    "                        getOrCreate()"
   ]
  },
  {
   "cell_type": "code",
   "execution_count": 28,
   "metadata": {
    "application/vnd.databricks.v1+cell": {
     "inputWidgets": {},
     "nuid": "9e6a5343-3c8d-4b9b-9ea7-4b5897ff133b",
     "showTitle": false,
     "title": ""
    }
   },
   "outputs": [
    {
     "data": {
      "text/plain": [
       "events: org.apache.spark.sql.DataFrame = [device: string, ecommerce: struct<purchase_revenue_in_usd: double, total_item_quantity: bigint ... 1 more field> ... 8 more fields]\n"
      ]
     },
     "execution_count": 28,
     "metadata": {},
     "output_type": "execute_result"
    }
   ],
   "source": [
    "%scala\n",
    "val events = spark.read.json(\"datasets/events/events.json\")"
   ]
  },
  {
   "cell_type": "code",
   "execution_count": 29,
   "metadata": {},
   "outputs": [
    {
     "data": {
      "text/plain": [
       "eventsPath: String = mnt/training/ecommerce/events/events.parquet\n"
      ]
     },
     "execution_count": 29,
     "metadata": {},
     "output_type": "execute_result"
    }
   ],
   "source": [
    "val eventsPath = \"mnt/training/ecommerce/events/events.parquet\""
   ]
  },
  {
   "cell_type": "code",
   "execution_count": 30,
   "metadata": {},
   "outputs": [
    {
     "data": {
      "text/plain": [
       "eventsDF: Unit = ()\n"
      ]
     },
     "execution_count": 30,
     "metadata": {},
     "output_type": "execute_result"
    }
   ],
   "source": [
    "val eventsDF=events.\n",
    "    write.\n",
    "    mode(\"overwrite\").\n",
    "    option(\"compression\", \"none\").\n",
    "    format(\"parquet\").\n",
    "    save(eventsPath)"
   ]
  },
  {
   "cell_type": "code",
   "execution_count": 32,
   "metadata": {
    "application/vnd.databricks.v1+cell": {
     "inputWidgets": {},
     "nuid": "54dcf1b1-4a15-48c7-a3bf-590499529d4a",
     "showTitle": false,
     "title": ""
    }
   },
   "outputs": [
    {
     "name": "stdout",
     "output_type": "stream",
     "text": [
      "+-------+---------+----------+------------------------+----------------+--------------------+--------------------+--------------+--------------------------+-----------------+\n",
      "| device|ecommerce|event_name|event_previous_timestamp| event_timestamp|                 geo|               items|traffic_source|user_first_touch_timestamp|          user_id|\n",
      "+-------+---------+----------+------------------------+----------------+--------------------+--------------------+--------------+--------------------------+-----------------+\n",
      "|  macOS|     [,,]|  warranty|        1593878899217692|1593878946592107|      [Montrose, MI]|                  []|        google|          1593878899217692|UA000000107379500|\n",
      "|Windows|     [,,]|     press|        1593876662175340|1593877011756535|   [Northampton, MA]|                  []|        google|          1593876662175340|UA000000107359357|\n",
      "|  macOS|     [,,]|  add_item|        1593878792892652|1593878815459100|       [Salinas, CA]|[[, M_STAN_T, Sta...|       youtube|          1593878455472030|UA000000107375547|\n",
      "|    iOS|     [,,]|mattresses|        1593878178791663|1593878809276923|       [Everett, MA]|                  []|      facebook|          1593877903116176|UA000000107370581|\n",
      "|Windows|     [,,]|mattresses|                    null|1593878628143633| [Cottage Grove, MN]|                  []|        google|          1593878628143633|UA000000107377108|\n",
      "|Windows|     [,,]|      main|                    null|1593878634344194|        [Medina, MN]|                  []|       youtube|          1593878634344194|UA000000107377161|\n",
      "|    iOS|     [,,]|      main|                    null|1593877936171803|[Mount Pleasant, UT]|                  []|        direct|          1593877936171803|UA000000107370851|\n",
      "|  macOS|     [,,]|      main|                    null|1593876843215329|      [Piedmont, AL]|                  []|     instagram|          1593876843215329|UA000000107360961|\n",
      "|Android|     [,,]|  warranty|        1593878529774474|1593879213196400|[Rancho Santa Mar...|                  []|     instagram|          1593878529774474|UA000000107376205|\n",
      "|Windows|     [,,]|      main|                    null|1593876713246514|        [Elyria, OH]|                  []|      facebook|          1593876713246514|UA000000107359805|\n",
      "|    iOS|     [,,]|  original|        1593878068949001|1593878170903989|      [Longview, WA]|                  []|        google|          1593877826716812|UA000000107369909|\n",
      "|  Linux|     [,,]|      main|                    null|1593878036347579|     [Lyndhurst, OH]|                  []|        direct|          1593878036347579|UA000000107371743|\n",
      "|Android|     [,,]|      down|        1593879057792999|1593879125815755|       [Jackson, MO]|                  []|      facebook|          1593879057792999|UA000000107380961|\n",
      "|  Linux|     [,,]|      main|                    null|1593878672173087|  [Cedar Rapids, IA]|                  []|        google|          1593878672173087|UA000000107377487|\n",
      "|  macOS|     [,,]|      main|                    null|1593876429415452|       [Phoenix, AZ]|                  []|        google|          1593876429415452|UA000000107357350|\n",
      "|    iOS|     [,,]|mattresses|                    null|1593876687337581|       [Warwick, RI]|                  []|        google|          1593876687337581|UA000000107359573|\n",
      "|  macOS|     [,,]|   premium|        1593877223736871|1593877973962436|       [Everett, WA]|                  []|     instagram|          1593877223736871|UA000000107364368|\n",
      "|Windows|     [,,]|   reviews|        1593876442432487|1593876944661570|       [Concord, CA]|                  []|        direct|          1593876442432487|UA000000107357467|\n",
      "|    iOS|     [,,]|  original|        1593877781854634|1593877788141768|      [Dunwoody, GA]|                  []|        google|          1593877781854634|UA000000107369512|\n",
      "|    iOS|     [,,]|      main|        1593877445670953|1593877497207417|     [Rochester, MN]|                  []|      facebook|          1593877300577217|UA000000107365065|\n",
      "+-------+---------+----------+------------------------+----------------+--------------------+--------------------+--------------+--------------------------+-----------------+\n",
      "only showing top 20 rows\n",
      "\n"
     ]
    },
    {
     "data": {
      "text/plain": [
       "eventsDF: org.apache.spark.sql.DataFrame = [device: string, ecommerce: struct<purchase_revenue_in_usd: double, total_item_quantity: bigint ... 1 more field> ... 8 more fields]\n"
      ]
     },
     "execution_count": 32,
     "metadata": {},
     "output_type": "execute_result"
    }
   ],
   "source": [
    "%scala\n",
    "// Read in the parquet file created above\n",
    "// Parquet files are self-describing so the schema is preserved\n",
    "// The result of loading a Parquet file is also a DataFrame\n",
    "val eventsDF = spark.read.parquet(eventsPath)\n",
    "eventsDF.show()"
   ]
  },
  {
   "cell_type": "markdown",
   "metadata": {
    "application/vnd.databricks.v1+cell": {
     "inputWidgets": {},
     "nuid": "ca867dd2-4e12-40ad-a63b-4300fe236849",
     "showTitle": false,
     "title": ""
    }
   },
   "source": [
    "### 1. Extraire les revenus d'achat pour chaque événement\n",
    "Ajouter une nouvelle colonne **`revenue`** en faisant l'extration de **`ecommerce.purchase_revenue_in_usd`**"
   ]
  },
  {
   "cell_type": "code",
   "execution_count": 34,
   "metadata": {
    "application/vnd.databricks.v1+cell": {
     "inputWidgets": {},
     "nuid": "4b6760a2-7b47-4713-aed3-65db8157dbe0",
     "showTitle": false,
     "title": ""
    }
   },
   "outputs": [
    {
     "name": "stdout",
     "output_type": "stream",
     "text": [
      "+-------+---------+----------+------------------------+----------------+--------------------+--------------------+--------------+--------------------------+-----------------+-------+\n",
      "| device|ecommerce|event_name|event_previous_timestamp| event_timestamp|                 geo|               items|traffic_source|user_first_touch_timestamp|          user_id|revenue|\n",
      "+-------+---------+----------+------------------------+----------------+--------------------+--------------------+--------------+--------------------------+-----------------+-------+\n",
      "|  macOS|     [,,]|  warranty|        1593878899217692|1593878946592107|      [Montrose, MI]|                  []|        google|          1593878899217692|UA000000107379500|   null|\n",
      "|Windows|     [,,]|     press|        1593876662175340|1593877011756535|   [Northampton, MA]|                  []|        google|          1593876662175340|UA000000107359357|   null|\n",
      "|  macOS|     [,,]|  add_item|        1593878792892652|1593878815459100|       [Salinas, CA]|[[, M_STAN_T, Sta...|       youtube|          1593878455472030|UA000000107375547|   null|\n",
      "|    iOS|     [,,]|mattresses|        1593878178791663|1593878809276923|       [Everett, MA]|                  []|      facebook|          1593877903116176|UA000000107370581|   null|\n",
      "|Windows|     [,,]|mattresses|                    null|1593878628143633| [Cottage Grove, MN]|                  []|        google|          1593878628143633|UA000000107377108|   null|\n",
      "|Windows|     [,,]|      main|                    null|1593878634344194|        [Medina, MN]|                  []|       youtube|          1593878634344194|UA000000107377161|   null|\n",
      "|    iOS|     [,,]|      main|                    null|1593877936171803|[Mount Pleasant, UT]|                  []|        direct|          1593877936171803|UA000000107370851|   null|\n",
      "|  macOS|     [,,]|      main|                    null|1593876843215329|      [Piedmont, AL]|                  []|     instagram|          1593876843215329|UA000000107360961|   null|\n",
      "|Android|     [,,]|  warranty|        1593878529774474|1593879213196400|[Rancho Santa Mar...|                  []|     instagram|          1593878529774474|UA000000107376205|   null|\n",
      "|Windows|     [,,]|      main|                    null|1593876713246514|        [Elyria, OH]|                  []|      facebook|          1593876713246514|UA000000107359805|   null|\n",
      "|    iOS|     [,,]|  original|        1593878068949001|1593878170903989|      [Longview, WA]|                  []|        google|          1593877826716812|UA000000107369909|   null|\n",
      "|  Linux|     [,,]|      main|                    null|1593878036347579|     [Lyndhurst, OH]|                  []|        direct|          1593878036347579|UA000000107371743|   null|\n",
      "|Android|     [,,]|      down|        1593879057792999|1593879125815755|       [Jackson, MO]|                  []|      facebook|          1593879057792999|UA000000107380961|   null|\n",
      "|  Linux|     [,,]|      main|                    null|1593878672173087|  [Cedar Rapids, IA]|                  []|        google|          1593878672173087|UA000000107377487|   null|\n",
      "|  macOS|     [,,]|      main|                    null|1593876429415452|       [Phoenix, AZ]|                  []|        google|          1593876429415452|UA000000107357350|   null|\n",
      "|    iOS|     [,,]|mattresses|                    null|1593876687337581|       [Warwick, RI]|                  []|        google|          1593876687337581|UA000000107359573|   null|\n",
      "|  macOS|     [,,]|   premium|        1593877223736871|1593877973962436|       [Everett, WA]|                  []|     instagram|          1593877223736871|UA000000107364368|   null|\n",
      "|Windows|     [,,]|   reviews|        1593876442432487|1593876944661570|       [Concord, CA]|                  []|        direct|          1593876442432487|UA000000107357467|   null|\n",
      "|    iOS|     [,,]|  original|        1593877781854634|1593877788141768|      [Dunwoody, GA]|                  []|        google|          1593877781854634|UA000000107369512|   null|\n",
      "|    iOS|     [,,]|      main|        1593877445670953|1593877497207417|     [Rochester, MN]|                  []|      facebook|          1593877300577217|UA000000107365065|   null|\n",
      "+-------+---------+----------+------------------------+----------------+--------------------+--------------------+--------------+--------------------------+-----------------+-------+\n",
      "only showing top 20 rows\n",
      "\n"
     ]
    },
    {
     "data": {
      "text/plain": [
       "import org.apache.spark.sql.functions.{lit, lpad, col}\n",
       "revenueDF: org.apache.spark.sql.DataFrame = [device: string, ecommerce: struct<purchase_revenue_in_usd: double, total_item_quantity: bigint ... 1 more field> ... 9 more fields]\n"
      ]
     },
     "execution_count": 34,
     "metadata": {},
     "output_type": "execute_result"
    }
   ],
   "source": [
    "%scala\n",
    "import org.apache.spark.sql.functions.{lit, lpad,col}\n",
    "\n",
    "val revenueDF= eventsDF.withColumn(\"revenue\",col(\"ecommerce.purchase_revenue_in_usd\"))\n",
    "revenueDF.show()"
   ]
  },
  {
   "cell_type": "code",
   "execution_count": 35,
   "metadata": {},
   "outputs": [
    {
     "name": "stdout",
     "output_type": "stream",
     "text": [
      "root\n",
      " |-- device: string (nullable = true)\n",
      " |-- ecommerce: struct (nullable = true)\n",
      " |    |-- purchase_revenue_in_usd: double (nullable = true)\n",
      " |    |-- total_item_quantity: long (nullable = true)\n",
      " |    |-- unique_items: long (nullable = true)\n",
      " |-- event_name: string (nullable = true)\n",
      " |-- event_previous_timestamp: long (nullable = true)\n",
      " |-- event_timestamp: long (nullable = true)\n",
      " |-- geo: struct (nullable = true)\n",
      " |    |-- city: string (nullable = true)\n",
      " |    |-- state: string (nullable = true)\n",
      " |-- items: array (nullable = true)\n",
      " |    |-- element: struct (containsNull = true)\n",
      " |    |    |-- coupon: string (nullable = true)\n",
      " |    |    |-- item_id: string (nullable = true)\n",
      " |    |    |-- item_name: string (nullable = true)\n",
      " |    |    |-- item_revenue_in_usd: double (nullable = true)\n",
      " |    |    |-- price_in_usd: double (nullable = true)\n",
      " |    |    |-- quantity: long (nullable = true)\n",
      " |-- traffic_source: string (nullable = true)\n",
      " |-- user_first_touch_timestamp: long (nullable = true)\n",
      " |-- user_id: string (nullable = true)\n",
      " |-- revenue: double (nullable = true)\n",
      "\n"
     ]
    }
   ],
   "source": [
    "//Colonne Revenue Creee ci-dessous derniere Ligne\n",
    " revenueDF.printSchema()"
   ]
  },
  {
   "cell_type": "code",
   "execution_count": null,
   "metadata": {},
   "outputs": [],
   "source": []
  },
  {
   "cell_type": "markdown",
   "metadata": {
    "application/vnd.databricks.v1+cell": {
     "inputWidgets": {},
     "nuid": "0b36255e-809d-4f37-bf29-14a84fb54dbc",
     "showTitle": false,
     "title": ""
    }
   },
   "source": [
    "### 2. Filtrer les événements dont le revenu n'est pas null"
   ]
  },
  {
   "cell_type": "code",
   "execution_count": 36,
   "metadata": {
    "application/vnd.databricks.v1+cell": {
     "inputWidgets": {},
     "nuid": "c3ab4d8d-3ba9-4efe-a0b2-f64a313c52a7",
     "showTitle": false,
     "title": ""
    }
   },
   "outputs": [
    {
     "name": "stdout",
     "output_type": "stream",
     "text": [
      "+----------+-------+--------------+\n",
      "|event_name|revenue|traffic_source|\n",
      "+----------+-------+--------------+\n",
      "|  finalize| 1195.0|        google|\n",
      "|  finalize| 1045.0|      facebook|\n",
      "|  finalize|  595.0|        google|\n",
      "|  finalize| 2290.0|        google|\n",
      "|  finalize|  945.0|      facebook|\n",
      "|  finalize|  595.0|        google|\n",
      "|  finalize|  945.0|        direct|\n",
      "|  finalize| 1095.0|     instagram|\n",
      "|  finalize| 1045.0|        direct|\n",
      "|  finalize| 1045.0|     instagram|\n",
      "|  finalize| 1045.0|     instagram|\n",
      "|  finalize| 1640.0|      facebook|\n",
      "|  finalize|  654.0|        google|\n",
      "|  finalize| 1045.0|        direct|\n",
      "|  finalize| 1795.0|      facebook|\n",
      "|  finalize| 1195.0|        google|\n",
      "|  finalize| 1195.0|        google|\n",
      "|  finalize| 1128.6|         email|\n",
      "|  finalize| 1075.5|         email|\n",
      "|  finalize|  595.0|      facebook|\n",
      "+----------+-------+--------------+\n",
      "only showing top 20 rows\n",
      "\n"
     ]
    },
    {
     "data": {
      "text/plain": [
       "purchasesDF: org.apache.spark.sql.Dataset[org.apache.spark.sql.Row] = [event_name: string, revenue: double ... 1 more field]\n"
      ]
     },
     "execution_count": 36,
     "metadata": {},
     "output_type": "execute_result"
    }
   ],
   "source": [
    "%scala\n",
    "// TODO\n",
    "val purchasesDF = revenueDF.select(\"event_name\",\"revenue\",\"traffic_source\").filter(revenueDF(\"revenue\").isNotNull)\n",
    "purchasesDF.show()"
   ]
  },
  {
   "cell_type": "markdown",
   "metadata": {
    "application/vnd.databricks.v1+cell": {
     "inputWidgets": {},
     "nuid": "8c7799f6-4668-47fe-ad11-2d95fb42f3cd",
     "showTitle": false,
     "title": ""
    }
   },
   "source": [
    "### 3. Vérifiez quels sont les types d'événements qui génèrent des revenus\n",
    "Trouvez des valeurs **`event_name`** uniques dans **`purchasesDF`**. Il y a deux façons de faire :\n",
    "- Sélectionnez \"event_name\" et recupérer les enregistrements distincts\n",
    "- Supprimez les enregistrements en double en fonction de \"event_name\" uniquement"
   ]
  },
  {
   "cell_type": "code",
   "execution_count": 37,
   "metadata": {
    "application/vnd.databricks.v1+cell": {
     "inputWidgets": {},
     "nuid": "9be33ae8-08e1-4f11-901a-d11f94d1a2a3",
     "showTitle": false,
     "title": ""
    }
   },
   "outputs": [
    {
     "name": "stdout",
     "output_type": "stream",
     "text": [
      "+----------+-------+--------------+\n",
      "|event_name|revenue|traffic_source|\n",
      "+----------+-------+--------------+\n",
      "|  finalize|  940.5|         email|\n",
      "|  finalize| 1195.0|     instagram|\n",
      "|  finalize|  535.5|         email|\n",
      "|  finalize| 1195.0|         email|\n",
      "|  finalize| 1045.0|        direct|\n",
      "|  finalize| 1274.0|      facebook|\n",
      "|  finalize|  595.0|        google|\n",
      "|  finalize| 2290.0|        google|\n",
      "|  finalize|   79.0|      facebook|\n",
      "|  finalize| 1045.0|         email|\n",
      "|  finalize| 1045.0|        google|\n",
      "|  finalize| 1204.0|      facebook|\n",
      "|  finalize|   59.0|        google|\n",
      "|  finalize| 1195.0|        google|\n",
      "|  finalize|  945.0|        google|\n",
      "|  finalize|  985.5|         email|\n",
      "|  finalize| 1814.0|        direct|\n",
      "|  finalize| 1995.0|       youtube|\n",
      "|  finalize|  921.6|         email|\n",
      "|  finalize| 1075.5|         email|\n",
      "+----------+-------+--------------+\n",
      "only showing top 20 rows\n",
      "\n"
     ]
    },
    {
     "data": {
      "text/plain": [
       "distinctDF: org.apache.spark.sql.Dataset[org.apache.spark.sql.Row] = [event_name: string, revenue: double ... 1 more field]\n"
      ]
     },
     "execution_count": 37,
     "metadata": {},
     "output_type": "execute_result"
    }
   ],
   "source": [
    "%scala\n",
    "// TODO\n",
    "val distinctDF = purchasesDF.distinct()\n",
    "distinctDF.show"
   ]
  },
  {
   "cell_type": "markdown",
   "metadata": {
    "application/vnd.databricks.v1+cell": {
     "inputWidgets": {},
     "nuid": "da232f23-514c-4423-975f-20162fec0cb9",
     "showTitle": false,
     "title": ""
    }
   },
   "source": [
    "### 4. Supprimez la colonne inutile\n",
    "Puisqu'il n'y a qu'un seul type d'événement, supprimez **`event_name`** de **`purchasesDF`**."
   ]
  },
  {
   "cell_type": "code",
   "execution_count": 38,
   "metadata": {
    "application/vnd.databricks.v1+cell": {
     "inputWidgets": {},
     "nuid": "cff64c80-f082-408f-8ad2-50abd75d2f75",
     "showTitle": false,
     "title": ""
    }
   },
   "outputs": [
    {
     "name": "stdout",
     "output_type": "stream",
     "text": [
      "+-------+--------------+\n",
      "|revenue|traffic_source|\n",
      "+-------+--------------+\n",
      "| 1195.0|        google|\n",
      "| 1045.0|      facebook|\n",
      "|  595.0|        google|\n",
      "| 2290.0|        google|\n",
      "|  945.0|      facebook|\n",
      "|  595.0|        google|\n",
      "|  945.0|        direct|\n",
      "| 1095.0|     instagram|\n",
      "| 1045.0|        direct|\n",
      "| 1045.0|     instagram|\n",
      "| 1045.0|     instagram|\n",
      "| 1640.0|      facebook|\n",
      "|  654.0|        google|\n",
      "| 1045.0|        direct|\n",
      "| 1795.0|      facebook|\n",
      "| 1195.0|        google|\n",
      "| 1195.0|        google|\n",
      "| 1128.6|         email|\n",
      "| 1075.5|         email|\n",
      "|  595.0|      facebook|\n",
      "+-------+--------------+\n",
      "only showing top 20 rows\n",
      "\n"
     ]
    },
    {
     "data": {
      "text/plain": [
       "cleanDF: org.apache.spark.sql.DataFrame = [revenue: double, traffic_source: string]\n"
      ]
     },
     "execution_count": 38,
     "metadata": {},
     "output_type": "execute_result"
    }
   ],
   "source": [
    "%scala\n",
    "// TODO\n",
    "\n",
    "val cleanDF = purchasesDF.drop(\"event_name\")\n",
    "cleanDF.show()"
   ]
  },
  {
   "cell_type": "markdown",
   "metadata": {
    "application/vnd.databricks.v1+cell": {
     "inputWidgets": {},
     "nuid": "c9ca35ef-7fa1-4259-b7cc-59a42a7e3fdc",
     "showTitle": false,
     "title": ""
    }
   },
   "source": [
    "### 5. Revenus cumulés par source de trafic\n",
    "- Grouper par **`traffic_source`**\n",
    "- Obtenir la somme de **`revenue`** comme **`total_rev`**\n",
    "- Obtenir la moyenne de **`revenue`** comme **`avg_rev`**\n",
    "\n",
    "N'oubliez pas d'importer toutes les fonctions intégrées nécessaires."
   ]
  },
  {
   "cell_type": "code",
   "execution_count": 39,
   "metadata": {
    "application/vnd.databricks.v1+cell": {
     "inputWidgets": {},
     "nuid": "bd64d109-4513-48f9-b5b4-85f4ef6b1b0d",
     "showTitle": false,
     "title": ""
    }
   },
   "outputs": [
    {
     "name": "stdout",
     "output_type": "stream",
     "text": [
      "+--------------+---------+-----------------+\n",
      "|traffic_source|total_rev|          avg_rev|\n",
      "+--------------+---------+-----------------+\n",
      "|     instagram|   8160.0|           1020.0|\n",
      "|        direct|   9129.0|         1141.125|\n",
      "|       youtube|   3040.0|           1520.0|\n",
      "|         email|  36935.4|998.2540540540541|\n",
      "|      facebook|  12952.0|996.3076923076923|\n",
      "|        google|  28936.0|964.5333333333333|\n",
      "+--------------+---------+-----------------+\n",
      "\n"
     ]
    },
    {
     "data": {
      "text/plain": [
       "import org.apache.spark.sql.functions.{avg, sum}\n",
       "trafficDF: org.apache.spark.sql.DataFrame = [traffic_source: string, total_rev: double ... 1 more field]\n"
      ]
     },
     "execution_count": 39,
     "metadata": {},
     "output_type": "execute_result"
    }
   ],
   "source": [
    "%scala\n",
    "import org.apache.spark.sql.functions.{avg,sum}\n",
    "\n",
    "val trafficDF = cleanDF.groupBy(\"traffic_source\").agg(sum(\"revenue\").as(\"total_rev\"),avg(\"revenue\").as(\"avg_rev\"))\n",
    "trafficDF.show()"
   ]
  },
  {
   "cell_type": "markdown",
   "metadata": {
    "application/vnd.databricks.v1+cell": {
     "inputWidgets": {},
     "nuid": "752ce304-d2e1-47f5-acd0-d5a30183bf19",
     "showTitle": false,
     "title": ""
    }
   },
   "source": [
    "### 2. Obtenir les trois principales sources de trafic par revenu total\n",
    "- Trier par **`total_rev`** dans l'ordre décroissant\n",
    "- Se limiter aux trois premières lignes"
   ]
  },
  {
   "cell_type": "code",
   "execution_count": 40,
   "metadata": {
    "application/vnd.databricks.v1+cell": {
     "inputWidgets": {},
     "nuid": "89de0a73-924d-4b55-8ed2-9b936dabc496",
     "showTitle": false,
     "title": ""
    }
   },
   "outputs": [
    {
     "name": "stdout",
     "output_type": "stream",
     "text": [
      "+--------------+---------+-----------------+\n",
      "|traffic_source|total_rev|          avg_rev|\n",
      "+--------------+---------+-----------------+\n",
      "|         email|  36935.4|998.2540540540541|\n",
      "|        google|  28936.0|964.5333333333333|\n",
      "|      facebook|  12952.0|996.3076923076923|\n",
      "+--------------+---------+-----------------+\n",
      "\n"
     ]
    },
    {
     "data": {
      "text/plain": [
       "topTrafficDF: org.apache.spark.sql.Dataset[org.apache.spark.sql.Row] = [traffic_source: string, total_rev: double ... 1 more field]\n"
      ]
     },
     "execution_count": 40,
     "metadata": {},
     "output_type": "execute_result"
    }
   ],
   "source": [
    "%scala\n",
    "//TODO\n",
    "val topTrafficDF = trafficDF.orderBy(desc(\"total_rev\")).limit(3)\n",
    "topTrafficDF.show()"
   ]
  },
  {
   "cell_type": "markdown",
   "metadata": {
    "application/vnd.databricks.v1+cell": {
     "inputWidgets": {},
     "nuid": "e46516b0-0637-47c4-a29d-58b32c8760db",
     "showTitle": false,
     "title": ""
    }
   },
   "source": [
    "### 3. Limitez les colonnes de revenus à deux décimales pointés\n",
    "- Modifier les colonnes **`avg_rev`** et **`total_rev`** pour les convertir en des nombres avec deux décimales pointés"
   ]
  },
  {
   "cell_type": "code",
   "execution_count": 41,
   "metadata": {
    "application/vnd.databricks.v1+cell": {
     "inputWidgets": {},
     "nuid": "9660408e-252d-4b78-a6e6-e3028640f4b0",
     "showTitle": false,
     "title": ""
    }
   },
   "outputs": [
    {
     "name": "stdout",
     "output_type": "stream",
     "text": [
      "+--------------+------------------+--------------------+\n",
      "|traffic_source|bround(avg_rev, 2)|bround(total_rev, 2)|\n",
      "+--------------+------------------+--------------------+\n",
      "|         email|            998.25|             36935.4|\n",
      "|        google|            964.53|             28936.0|\n",
      "|      facebook|            996.31|             12952.0|\n",
      "+--------------+------------------+--------------------+\n",
      "\n"
     ]
    },
    {
     "data": {
      "text/plain": [
       "import org.apache.spark.sql.functions.bround\n",
       "finalDF: org.apache.spark.sql.DataFrame = [traffic_source: string, bround(avg_rev, 2): double ... 1 more field]\n"
      ]
     },
     "execution_count": 41,
     "metadata": {},
     "output_type": "execute_result"
    }
   ],
   "source": [
    "%scala\n",
    "import org.apache.spark.sql.functions.{bround}\n",
    "// TODO\n",
    "val finalDF = topTrafficDF.select(col(\"traffic_source\"),bround(col(\"avg_rev\"),2),bround(col(\"total_rev\"),2))\n",
    "finalDF.show()"
   ]
  },
  {
   "cell_type": "code",
   "execution_count": null,
   "metadata": {},
   "outputs": [],
   "source": []
  }
 ],
 "metadata": {
  "application/vnd.databricks.v1+notebook": {
   "dashboards": [],
   "language": "python",
   "notebookMetadata": {
    "pythonIndentUnit": 2
   },
   "notebookName": "Examen Rattrapage  Big Data ISI",
   "notebookOrigID": 2952678889524244,
   "widgets": {}
  },
  "kernelspec": {
   "display_name": "spylon-kernel",
   "language": "scala",
   "name": "spylon-kernel"
  },
  "language_info": {
   "codemirror_mode": "text/x-scala",
   "file_extension": ".scala",
   "help_links": [
    {
     "text": "MetaKernel Magics",
     "url": "https://metakernel.readthedocs.io/en/latest/source/README.html"
    }
   ],
   "mimetype": "text/x-scala",
   "name": "scala",
   "pygments_lexer": "scala",
   "version": "0.4.1"
  }
 },
 "nbformat": 4,
 "nbformat_minor": 4
}
